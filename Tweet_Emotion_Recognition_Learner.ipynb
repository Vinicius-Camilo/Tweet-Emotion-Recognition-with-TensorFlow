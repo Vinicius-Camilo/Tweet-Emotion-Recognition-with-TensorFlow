{
  "cells": [
    {
      "cell_type": "markdown",
      "metadata": {
        "colab_type": "text",
        "id": "view-in-github"
      },
      "source": [
        "<a href=\"https://colab.research.google.com/github/Vinicius-Camilo/Tweet-Emotion-Recognition-with-TensorFlow/blob/main/Tweet_Emotion_Recognition_Learner.ipynb\" target=\"_parent\"><img src=\"https://colab.research.google.com/assets/colab-badge.svg\" alt=\"Open In Colab\"/></a>"
      ]
    },
    {
      "cell_type": "markdown",
      "metadata": {
        "id": "sp7D0ktn5eiG"
      },
      "source": [
        "## Tweet Emotion Recognition: Natural Language Processing with TensorFlow\n",
        "\n",
        "---\n",
        "\n",
        "Dataset: [Tweet Emotion Dataset](https://github.com/dair-ai/emotion_dataset)\n",
        "\n",
        "This is a starter notebook for the guided project [Tweet Emotion Recognition with TensorFlow](https://www.coursera.org/projects/tweet-emotion-tensorflow)\n",
        "\n",
        "A complete version of this notebook is available in the course resources\n",
        "\n",
        "---\n",
        "\n",
        "## Task 1: Introduction"
      ]
    },
    {
      "cell_type": "markdown",
      "metadata": {
        "id": "cprXxkrMxIgT"
      },
      "source": [
        "## Task 2: Setup and Imports\n",
        "\n",
        "1. Installing Hugging Face's nlp package\n",
        "2. Importing libraries"
      ]
    },
    {
      "cell_type": "code",
      "execution_count": 5,
      "metadata": {
        "id": "5agZRy-45i0g"
      },
      "outputs": [
        {
          "name": "stdout",
          "output_type": "stream",
          "text": [
            "Collecting datasets\n",
            "  Downloading datasets-3.6.0-py3-none-any.whl.metadata (19 kB)\n",
            "Requirement already satisfied: filelock in d:\\vinic_0uqu2ri\\documents\\projetos\\tweet-emotion-recognition-with-tensorflow\\.venv\\lib\\site-packages (from datasets) (3.18.0)\n",
            "Requirement already satisfied: numpy>=1.17 in d:\\vinic_0uqu2ri\\documents\\projetos\\tweet-emotion-recognition-with-tensorflow\\.venv\\lib\\site-packages (from datasets) (2.1.3)\n",
            "Requirement already satisfied: pyarrow>=15.0.0 in d:\\vinic_0uqu2ri\\documents\\projetos\\tweet-emotion-recognition-with-tensorflow\\.venv\\lib\\site-packages (from datasets) (20.0.0)\n",
            "Collecting dill<0.3.9,>=0.3.0 (from datasets)\n",
            "  Downloading dill-0.3.8-py3-none-any.whl.metadata (10 kB)\n",
            "Requirement already satisfied: pandas in d:\\vinic_0uqu2ri\\documents\\projetos\\tweet-emotion-recognition-with-tensorflow\\.venv\\lib\\site-packages (from datasets) (2.3.0)\n",
            "Requirement already satisfied: requests>=2.32.2 in d:\\vinic_0uqu2ri\\documents\\projetos\\tweet-emotion-recognition-with-tensorflow\\.venv\\lib\\site-packages (from datasets) (2.32.4)\n",
            "Requirement already satisfied: tqdm>=4.66.3 in d:\\vinic_0uqu2ri\\documents\\projetos\\tweet-emotion-recognition-with-tensorflow\\.venv\\lib\\site-packages (from datasets) (4.67.1)\n",
            "Requirement already satisfied: xxhash in d:\\vinic_0uqu2ri\\documents\\projetos\\tweet-emotion-recognition-with-tensorflow\\.venv\\lib\\site-packages (from datasets) (3.5.0)\n",
            "Collecting multiprocess<0.70.17 (from datasets)\n",
            "  Downloading multiprocess-0.70.16-py312-none-any.whl.metadata (7.2 kB)\n",
            "Collecting fsspec<=2025.3.0,>=2023.1.0 (from fsspec[http]<=2025.3.0,>=2023.1.0->datasets)\n",
            "  Downloading fsspec-2025.3.0-py3-none-any.whl.metadata (11 kB)\n",
            "Collecting huggingface-hub>=0.24.0 (from datasets)\n",
            "  Downloading huggingface_hub-0.33.0-py3-none-any.whl.metadata (14 kB)\n",
            "Requirement already satisfied: packaging in d:\\vinic_0uqu2ri\\documents\\projetos\\tweet-emotion-recognition-with-tensorflow\\.venv\\lib\\site-packages (from datasets) (25.0)\n",
            "Collecting pyyaml>=5.1 (from datasets)\n",
            "  Downloading PyYAML-6.0.2-cp312-cp312-win_amd64.whl.metadata (2.1 kB)\n",
            "Collecting aiohttp!=4.0.0a0,!=4.0.0a1 (from fsspec[http]<=2025.3.0,>=2023.1.0->datasets)\n",
            "  Downloading aiohttp-3.12.13-cp312-cp312-win_amd64.whl.metadata (7.9 kB)\n",
            "Collecting aiohappyeyeballs>=2.5.0 (from aiohttp!=4.0.0a0,!=4.0.0a1->fsspec[http]<=2025.3.0,>=2023.1.0->datasets)\n",
            "  Downloading aiohappyeyeballs-2.6.1-py3-none-any.whl.metadata (5.9 kB)\n",
            "Collecting aiosignal>=1.1.2 (from aiohttp!=4.0.0a0,!=4.0.0a1->fsspec[http]<=2025.3.0,>=2023.1.0->datasets)\n",
            "  Downloading aiosignal-1.3.2-py2.py3-none-any.whl.metadata (3.8 kB)\n",
            "Collecting attrs>=17.3.0 (from aiohttp!=4.0.0a0,!=4.0.0a1->fsspec[http]<=2025.3.0,>=2023.1.0->datasets)\n",
            "  Downloading attrs-25.3.0-py3-none-any.whl.metadata (10 kB)\n",
            "Collecting frozenlist>=1.1.1 (from aiohttp!=4.0.0a0,!=4.0.0a1->fsspec[http]<=2025.3.0,>=2023.1.0->datasets)\n",
            "  Downloading frozenlist-1.7.0-cp312-cp312-win_amd64.whl.metadata (19 kB)\n",
            "Collecting multidict<7.0,>=4.5 (from aiohttp!=4.0.0a0,!=4.0.0a1->fsspec[http]<=2025.3.0,>=2023.1.0->datasets)\n",
            "  Downloading multidict-6.5.0-cp312-cp312-win_amd64.whl.metadata (5.5 kB)\n",
            "Collecting propcache>=0.2.0 (from aiohttp!=4.0.0a0,!=4.0.0a1->fsspec[http]<=2025.3.0,>=2023.1.0->datasets)\n",
            "  Downloading propcache-0.3.2-cp312-cp312-win_amd64.whl.metadata (12 kB)\n",
            "Collecting yarl<2.0,>=1.17.0 (from aiohttp!=4.0.0a0,!=4.0.0a1->fsspec[http]<=2025.3.0,>=2023.1.0->datasets)\n",
            "  Downloading yarl-1.20.1-cp312-cp312-win_amd64.whl.metadata (76 kB)\n",
            "Requirement already satisfied: idna>=2.0 in d:\\vinic_0uqu2ri\\documents\\projetos\\tweet-emotion-recognition-with-tensorflow\\.venv\\lib\\site-packages (from yarl<2.0,>=1.17.0->aiohttp!=4.0.0a0,!=4.0.0a1->fsspec[http]<=2025.3.0,>=2023.1.0->datasets) (3.10)\n",
            "Requirement already satisfied: typing-extensions>=3.7.4.3 in d:\\vinic_0uqu2ri\\documents\\projetos\\tweet-emotion-recognition-with-tensorflow\\.venv\\lib\\site-packages (from huggingface-hub>=0.24.0->datasets) (4.14.0)\n",
            "Requirement already satisfied: charset_normalizer<4,>=2 in d:\\vinic_0uqu2ri\\documents\\projetos\\tweet-emotion-recognition-with-tensorflow\\.venv\\lib\\site-packages (from requests>=2.32.2->datasets) (3.4.2)\n",
            "Requirement already satisfied: urllib3<3,>=1.21.1 in d:\\vinic_0uqu2ri\\documents\\projetos\\tweet-emotion-recognition-with-tensorflow\\.venv\\lib\\site-packages (from requests>=2.32.2->datasets) (2.5.0)\n",
            "Requirement already satisfied: certifi>=2017.4.17 in d:\\vinic_0uqu2ri\\documents\\projetos\\tweet-emotion-recognition-with-tensorflow\\.venv\\lib\\site-packages (from requests>=2.32.2->datasets) (2025.6.15)\n",
            "Requirement already satisfied: colorama in d:\\vinic_0uqu2ri\\documents\\projetos\\tweet-emotion-recognition-with-tensorflow\\.venv\\lib\\site-packages (from tqdm>=4.66.3->datasets) (0.4.6)\n",
            "Requirement already satisfied: python-dateutil>=2.8.2 in d:\\vinic_0uqu2ri\\documents\\projetos\\tweet-emotion-recognition-with-tensorflow\\.venv\\lib\\site-packages (from pandas->datasets) (2.9.0.post0)\n",
            "Requirement already satisfied: pytz>=2020.1 in d:\\vinic_0uqu2ri\\documents\\projetos\\tweet-emotion-recognition-with-tensorflow\\.venv\\lib\\site-packages (from pandas->datasets) (2025.2)\n",
            "Requirement already satisfied: tzdata>=2022.7 in d:\\vinic_0uqu2ri\\documents\\projetos\\tweet-emotion-recognition-with-tensorflow\\.venv\\lib\\site-packages (from pandas->datasets) (2025.2)\n",
            "Requirement already satisfied: six>=1.5 in d:\\vinic_0uqu2ri\\documents\\projetos\\tweet-emotion-recognition-with-tensorflow\\.venv\\lib\\site-packages (from python-dateutil>=2.8.2->pandas->datasets) (1.17.0)\n",
            "Downloading datasets-3.6.0-py3-none-any.whl (491 kB)\n",
            "Downloading dill-0.3.8-py3-none-any.whl (116 kB)\n",
            "Downloading fsspec-2025.3.0-py3-none-any.whl (193 kB)\n",
            "Downloading multiprocess-0.70.16-py312-none-any.whl (146 kB)\n",
            "Downloading aiohttp-3.12.13-cp312-cp312-win_amd64.whl (447 kB)\n",
            "Downloading multidict-6.5.0-cp312-cp312-win_amd64.whl (44 kB)\n",
            "Downloading yarl-1.20.1-cp312-cp312-win_amd64.whl (86 kB)\n",
            "Downloading aiohappyeyeballs-2.6.1-py3-none-any.whl (15 kB)\n",
            "Downloading aiosignal-1.3.2-py2.py3-none-any.whl (7.6 kB)\n",
            "Downloading attrs-25.3.0-py3-none-any.whl (63 kB)\n",
            "Downloading frozenlist-1.7.0-cp312-cp312-win_amd64.whl (43 kB)\n",
            "Downloading huggingface_hub-0.33.0-py3-none-any.whl (514 kB)\n",
            "Downloading propcache-0.3.2-cp312-cp312-win_amd64.whl (41 kB)\n",
            "Downloading PyYAML-6.0.2-cp312-cp312-win_amd64.whl (156 kB)\n",
            "Installing collected packages: pyyaml, propcache, multidict, fsspec, frozenlist, dill, attrs, aiohappyeyeballs, yarl, multiprocess, huggingface-hub, aiosignal, aiohttp, datasets\n",
            "\n",
            "   ----------------------------------------  0/14 [pyyaml]\n",
            "   ----------------------------------------  0/14 [pyyaml]\n",
            "   ----------------------------------------  0/14 [pyyaml]\n",
            "   ----------------------------------------  0/14 [pyyaml]\n",
            "   -- -------------------------------------  1/14 [propcache]\n",
            "   ----- ----------------------------------  2/14 [multidict]\n",
            "   ----- ----------------------------------  2/14 [multidict]\n",
            "   -------- -------------------------------  3/14 [fsspec]\n",
            "   -------- -------------------------------  3/14 [fsspec]\n",
            "   -------- -------------------------------  3/14 [fsspec]\n",
            "   -------- -------------------------------  3/14 [fsspec]\n",
            "   -------- -------------------------------  3/14 [fsspec]\n",
            "   ----------- ----------------------------  4/14 [frozenlist]\n",
            "  Attempting uninstall: dill\n",
            "   ----------- ----------------------------  4/14 [frozenlist]\n",
            "    Found existing installation: dill 0.4.0\n",
            "   ----------- ----------------------------  4/14 [frozenlist]\n",
            "    Uninstalling dill-0.4.0:\n",
            "   ----------- ----------------------------  4/14 [frozenlist]\n",
            "      Successfully uninstalled dill-0.4.0\n",
            "   ----------- ----------------------------  4/14 [frozenlist]\n",
            "   -------------- -------------------------  5/14 [dill]\n",
            "   -------------- -------------------------  5/14 [dill]\n",
            "   -------------- -------------------------  5/14 [dill]\n",
            "   -------------- -------------------------  5/14 [dill]\n",
            "   ----------------- ----------------------  6/14 [attrs]\n",
            "   ----------------- ----------------------  6/14 [attrs]\n",
            "   ----------------- ----------------------  6/14 [attrs]\n",
            "   -------------------- -------------------  7/14 [aiohappyeyeballs]\n",
            "   ---------------------- -----------------  8/14 [yarl]\n",
            "   ---------------------- -----------------  8/14 [yarl]\n",
            "   ------------------------- --------------  9/14 [multiprocess]\n",
            "   ------------------------- --------------  9/14 [multiprocess]\n",
            "   ------------------------- --------------  9/14 [multiprocess]\n",
            "   ------------------------- --------------  9/14 [multiprocess]\n",
            "   ------------------------- --------------  9/14 [multiprocess]\n",
            "   ---------------------------- ----------- 10/14 [huggingface-hub]\n",
            "   ---------------------------- ----------- 10/14 [huggingface-hub]\n",
            "   ---------------------------- ----------- 10/14 [huggingface-hub]\n",
            "   ---------------------------- ----------- 10/14 [huggingface-hub]\n",
            "   ---------------------------- ----------- 10/14 [huggingface-hub]\n",
            "   ---------------------------- ----------- 10/14 [huggingface-hub]\n",
            "   ---------------------------- ----------- 10/14 [huggingface-hub]\n",
            "   ---------------------------- ----------- 10/14 [huggingface-hub]\n",
            "   ---------------------------- ----------- 10/14 [huggingface-hub]\n",
            "   ---------------------------- ----------- 10/14 [huggingface-hub]\n",
            "   ---------------------------- ----------- 10/14 [huggingface-hub]\n",
            "   ---------------------------- ----------- 10/14 [huggingface-hub]\n",
            "   ---------------------------- ----------- 10/14 [huggingface-hub]\n",
            "   ---------------------------- ----------- 10/14 [huggingface-hub]\n",
            "   ------------------------------- -------- 11/14 [aiosignal]\n",
            "   ---------------------------------- ----- 12/14 [aiohttp]\n",
            "   ---------------------------------- ----- 12/14 [aiohttp]\n",
            "   ---------------------------------- ----- 12/14 [aiohttp]\n",
            "   ---------------------------------- ----- 12/14 [aiohttp]\n",
            "   ---------------------------------- ----- 12/14 [aiohttp]\n",
            "   ---------------------------------- ----- 12/14 [aiohttp]\n",
            "   ---------------------------------- ----- 12/14 [aiohttp]\n",
            "   ------------------------------------- -- 13/14 [datasets]\n",
            "   ------------------------------------- -- 13/14 [datasets]\n",
            "   ------------------------------------- -- 13/14 [datasets]\n",
            "   ------------------------------------- -- 13/14 [datasets]\n",
            "   ------------------------------------- -- 13/14 [datasets]\n",
            "   ------------------------------------- -- 13/14 [datasets]\n",
            "   ------------------------------------- -- 13/14 [datasets]\n",
            "   ------------------------------------- -- 13/14 [datasets]\n",
            "   ------------------------------------- -- 13/14 [datasets]\n",
            "   ------------------------------------- -- 13/14 [datasets]\n",
            "   ------------------------------------- -- 13/14 [datasets]\n",
            "   ------------------------------------- -- 13/14 [datasets]\n",
            "   ---------------------------------------- 14/14 [datasets]\n",
            "\n",
            "Successfully installed aiohappyeyeballs-2.6.1 aiohttp-3.12.13 aiosignal-1.3.2 attrs-25.3.0 datasets-3.6.0 dill-0.3.8 frozenlist-1.7.0 fsspec-2025.3.0 huggingface-hub-0.33.0 multidict-6.5.0 multiprocess-0.70.16 propcache-0.3.2 pyyaml-6.0.2 yarl-1.20.1\n",
            "Note: you may need to restart the kernel to use updated packages.\n",
            "Requirement already satisfied: tensorflow in d:\\vinic_0uqu2ri\\documents\\projetos\\tweet-emotion-recognition-with-tensorflow\\.venv\\lib\\site-packages (2.19.0)\n",
            "Requirement already satisfied: absl-py>=1.0.0 in d:\\vinic_0uqu2ri\\documents\\projetos\\tweet-emotion-recognition-with-tensorflow\\.venv\\lib\\site-packages (from tensorflow) (2.3.0)\n",
            "Requirement already satisfied: astunparse>=1.6.0 in d:\\vinic_0uqu2ri\\documents\\projetos\\tweet-emotion-recognition-with-tensorflow\\.venv\\lib\\site-packages (from tensorflow) (1.6.3)\n",
            "Requirement already satisfied: flatbuffers>=24.3.25 in d:\\vinic_0uqu2ri\\documents\\projetos\\tweet-emotion-recognition-with-tensorflow\\.venv\\lib\\site-packages (from tensorflow) (25.2.10)\n",
            "Requirement already satisfied: gast!=0.5.0,!=0.5.1,!=0.5.2,>=0.2.1 in d:\\vinic_0uqu2ri\\documents\\projetos\\tweet-emotion-recognition-with-tensorflow\\.venv\\lib\\site-packages (from tensorflow) (0.6.0)\n",
            "Requirement already satisfied: google-pasta>=0.1.1 in d:\\vinic_0uqu2ri\\documents\\projetos\\tweet-emotion-recognition-with-tensorflow\\.venv\\lib\\site-packages (from tensorflow) (0.2.0)\n",
            "Requirement already satisfied: libclang>=13.0.0 in d:\\vinic_0uqu2ri\\documents\\projetos\\tweet-emotion-recognition-with-tensorflow\\.venv\\lib\\site-packages (from tensorflow) (18.1.1)\n",
            "Requirement already satisfied: opt-einsum>=2.3.2 in d:\\vinic_0uqu2ri\\documents\\projetos\\tweet-emotion-recognition-with-tensorflow\\.venv\\lib\\site-packages (from tensorflow) (3.4.0)\n",
            "Requirement already satisfied: packaging in d:\\vinic_0uqu2ri\\documents\\projetos\\tweet-emotion-recognition-with-tensorflow\\.venv\\lib\\site-packages (from tensorflow) (25.0)\n",
            "Requirement already satisfied: protobuf!=4.21.0,!=4.21.1,!=4.21.2,!=4.21.3,!=4.21.4,!=4.21.5,<6.0.0dev,>=3.20.3 in d:\\vinic_0uqu2ri\\documents\\projetos\\tweet-emotion-recognition-with-tensorflow\\.venv\\lib\\site-packages (from tensorflow) (5.29.5)\n",
            "Requirement already satisfied: requests<3,>=2.21.0 in d:\\vinic_0uqu2ri\\documents\\projetos\\tweet-emotion-recognition-with-tensorflow\\.venv\\lib\\site-packages (from tensorflow) (2.32.4)\n",
            "Requirement already satisfied: setuptools in d:\\vinic_0uqu2ri\\documents\\projetos\\tweet-emotion-recognition-with-tensorflow\\.venv\\lib\\site-packages (from tensorflow) (80.9.0)\n",
            "Requirement already satisfied: six>=1.12.0 in d:\\vinic_0uqu2ri\\documents\\projetos\\tweet-emotion-recognition-with-tensorflow\\.venv\\lib\\site-packages (from tensorflow) (1.17.0)\n",
            "Requirement already satisfied: termcolor>=1.1.0 in d:\\vinic_0uqu2ri\\documents\\projetos\\tweet-emotion-recognition-with-tensorflow\\.venv\\lib\\site-packages (from tensorflow) (3.1.0)\n",
            "Requirement already satisfied: typing-extensions>=3.6.6 in d:\\vinic_0uqu2ri\\documents\\projetos\\tweet-emotion-recognition-with-tensorflow\\.venv\\lib\\site-packages (from tensorflow) (4.14.0)\n",
            "Requirement already satisfied: wrapt>=1.11.0 in d:\\vinic_0uqu2ri\\documents\\projetos\\tweet-emotion-recognition-with-tensorflow\\.venv\\lib\\site-packages (from tensorflow) (1.17.2)\n",
            "Requirement already satisfied: grpcio<2.0,>=1.24.3 in d:\\vinic_0uqu2ri\\documents\\projetos\\tweet-emotion-recognition-with-tensorflow\\.venv\\lib\\site-packages (from tensorflow) (1.73.0)\n",
            "Requirement already satisfied: tensorboard~=2.19.0 in d:\\vinic_0uqu2ri\\documents\\projetos\\tweet-emotion-recognition-with-tensorflow\\.venv\\lib\\site-packages (from tensorflow) (2.19.0)\n",
            "Requirement already satisfied: keras>=3.5.0 in d:\\vinic_0uqu2ri\\documents\\projetos\\tweet-emotion-recognition-with-tensorflow\\.venv\\lib\\site-packages (from tensorflow) (3.10.0)\n",
            "Requirement already satisfied: numpy<2.2.0,>=1.26.0 in d:\\vinic_0uqu2ri\\documents\\projetos\\tweet-emotion-recognition-with-tensorflow\\.venv\\lib\\site-packages (from tensorflow) (2.1.3)\n",
            "Requirement already satisfied: h5py>=3.11.0 in d:\\vinic_0uqu2ri\\documents\\projetos\\tweet-emotion-recognition-with-tensorflow\\.venv\\lib\\site-packages (from tensorflow) (3.14.0)\n",
            "Requirement already satisfied: ml-dtypes<1.0.0,>=0.5.1 in d:\\vinic_0uqu2ri\\documents\\projetos\\tweet-emotion-recognition-with-tensorflow\\.venv\\lib\\site-packages (from tensorflow) (0.5.1)\n",
            "Requirement already satisfied: charset_normalizer<4,>=2 in d:\\vinic_0uqu2ri\\documents\\projetos\\tweet-emotion-recognition-with-tensorflow\\.venv\\lib\\site-packages (from requests<3,>=2.21.0->tensorflow) (3.4.2)\n",
            "Requirement already satisfied: idna<4,>=2.5 in d:\\vinic_0uqu2ri\\documents\\projetos\\tweet-emotion-recognition-with-tensorflow\\.venv\\lib\\site-packages (from requests<3,>=2.21.0->tensorflow) (3.10)\n",
            "Requirement already satisfied: urllib3<3,>=1.21.1 in d:\\vinic_0uqu2ri\\documents\\projetos\\tweet-emotion-recognition-with-tensorflow\\.venv\\lib\\site-packages (from requests<3,>=2.21.0->tensorflow) (2.5.0)\n",
            "Requirement already satisfied: certifi>=2017.4.17 in d:\\vinic_0uqu2ri\\documents\\projetos\\tweet-emotion-recognition-with-tensorflow\\.venv\\lib\\site-packages (from requests<3,>=2.21.0->tensorflow) (2025.6.15)\n",
            "Requirement already satisfied: markdown>=2.6.8 in d:\\vinic_0uqu2ri\\documents\\projetos\\tweet-emotion-recognition-with-tensorflow\\.venv\\lib\\site-packages (from tensorboard~=2.19.0->tensorflow) (3.8.2)\n",
            "Requirement already satisfied: tensorboard-data-server<0.8.0,>=0.7.0 in d:\\vinic_0uqu2ri\\documents\\projetos\\tweet-emotion-recognition-with-tensorflow\\.venv\\lib\\site-packages (from tensorboard~=2.19.0->tensorflow) (0.7.2)\n",
            "Requirement already satisfied: werkzeug>=1.0.1 in d:\\vinic_0uqu2ri\\documents\\projetos\\tweet-emotion-recognition-with-tensorflow\\.venv\\lib\\site-packages (from tensorboard~=2.19.0->tensorflow) (3.1.3)\n",
            "Requirement already satisfied: wheel<1.0,>=0.23.0 in d:\\vinic_0uqu2ri\\documents\\projetos\\tweet-emotion-recognition-with-tensorflow\\.venv\\lib\\site-packages (from astunparse>=1.6.0->tensorflow) (0.45.1)\n",
            "Requirement already satisfied: rich in d:\\vinic_0uqu2ri\\documents\\projetos\\tweet-emotion-recognition-with-tensorflow\\.venv\\lib\\site-packages (from keras>=3.5.0->tensorflow) (14.0.0)\n",
            "Requirement already satisfied: namex in d:\\vinic_0uqu2ri\\documents\\projetos\\tweet-emotion-recognition-with-tensorflow\\.venv\\lib\\site-packages (from keras>=3.5.0->tensorflow) (0.1.0)\n",
            "Requirement already satisfied: optree in d:\\vinic_0uqu2ri\\documents\\projetos\\tweet-emotion-recognition-with-tensorflow\\.venv\\lib\\site-packages (from keras>=3.5.0->tensorflow) (0.16.0)\n",
            "Requirement already satisfied: MarkupSafe>=2.1.1 in d:\\vinic_0uqu2ri\\documents\\projetos\\tweet-emotion-recognition-with-tensorflow\\.venv\\lib\\site-packages (from werkzeug>=1.0.1->tensorboard~=2.19.0->tensorflow) (3.0.2)\n",
            "Requirement already satisfied: markdown-it-py>=2.2.0 in d:\\vinic_0uqu2ri\\documents\\projetos\\tweet-emotion-recognition-with-tensorflow\\.venv\\lib\\site-packages (from rich->keras>=3.5.0->tensorflow) (3.0.0)\n",
            "Requirement already satisfied: pygments<3.0.0,>=2.13.0 in d:\\vinic_0uqu2ri\\documents\\projetos\\tweet-emotion-recognition-with-tensorflow\\.venv\\lib\\site-packages (from rich->keras>=3.5.0->tensorflow) (2.19.1)\n",
            "Requirement already satisfied: mdurl~=0.1 in d:\\vinic_0uqu2ri\\documents\\projetos\\tweet-emotion-recognition-with-tensorflow\\.venv\\lib\\site-packages (from markdown-it-py>=2.2.0->rich->keras>=3.5.0->tensorflow) (0.1.2)\n",
            "Note: you may need to restart the kernel to use updated packages.\n",
            "Requirement already satisfied: matplotlib in d:\\vinic_0uqu2ri\\documents\\projetos\\tweet-emotion-recognition-with-tensorflow\\.venv\\lib\\site-packages (3.10.3)\n",
            "Requirement already satisfied: contourpy>=1.0.1 in d:\\vinic_0uqu2ri\\documents\\projetos\\tweet-emotion-recognition-with-tensorflow\\.venv\\lib\\site-packages (from matplotlib) (1.3.2)\n",
            "Requirement already satisfied: cycler>=0.10 in d:\\vinic_0uqu2ri\\documents\\projetos\\tweet-emotion-recognition-with-tensorflow\\.venv\\lib\\site-packages (from matplotlib) (0.12.1)\n",
            "Requirement already satisfied: fonttools>=4.22.0 in d:\\vinic_0uqu2ri\\documents\\projetos\\tweet-emotion-recognition-with-tensorflow\\.venv\\lib\\site-packages (from matplotlib) (4.58.4)\n",
            "Requirement already satisfied: kiwisolver>=1.3.1 in d:\\vinic_0uqu2ri\\documents\\projetos\\tweet-emotion-recognition-with-tensorflow\\.venv\\lib\\site-packages (from matplotlib) (1.4.8)\n",
            "Requirement already satisfied: numpy>=1.23 in d:\\vinic_0uqu2ri\\documents\\projetos\\tweet-emotion-recognition-with-tensorflow\\.venv\\lib\\site-packages (from matplotlib) (2.1.3)\n",
            "Requirement already satisfied: packaging>=20.0 in d:\\vinic_0uqu2ri\\documents\\projetos\\tweet-emotion-recognition-with-tensorflow\\.venv\\lib\\site-packages (from matplotlib) (25.0)\n",
            "Requirement already satisfied: pillow>=8 in d:\\vinic_0uqu2ri\\documents\\projetos\\tweet-emotion-recognition-with-tensorflow\\.venv\\lib\\site-packages (from matplotlib) (11.2.1)\n",
            "Requirement already satisfied: pyparsing>=2.3.1 in d:\\vinic_0uqu2ri\\documents\\projetos\\tweet-emotion-recognition-with-tensorflow\\.venv\\lib\\site-packages (from matplotlib) (3.2.3)\n",
            "Requirement already satisfied: python-dateutil>=2.7 in d:\\vinic_0uqu2ri\\documents\\projetos\\tweet-emotion-recognition-with-tensorflow\\.venv\\lib\\site-packages (from matplotlib) (2.9.0.post0)\n",
            "Requirement already satisfied: six>=1.5 in d:\\vinic_0uqu2ri\\documents\\projetos\\tweet-emotion-recognition-with-tensorflow\\.venv\\lib\\site-packages (from python-dateutil>=2.7->matplotlib) (1.17.0)\n",
            "Note: you may need to restart the kernel to use updated packages.\n"
          ]
        }
      ],
      "source": [
        "%pip install datasets\n",
        "%pip install tensorflow\n",
        "%pip install matplotlib\n"
      ]
    },
    {
      "cell_type": "code",
      "execution_count": null,
      "metadata": {
        "id": "yKFjWz6e5eiH"
      },
      "outputs": [
        {
          "name": "stderr",
          "output_type": "stream",
          "text": [
            "d:\\vinic_0uqu2ri\\Documents\\Projetos\\Tweet-Emotion-Recognition-with-TensorFlow\\.venv\\Lib\\site-packages\\tqdm\\auto.py:21: TqdmWarning: IProgress not found. Please update jupyter and ipywidgets. See https://ipywidgets.readthedocs.io/en/stable/user_install.html\n",
            "  from .autonotebook import tqdm as notebook_tqdm\n"
          ]
        },
        {
          "name": "stdout",
          "output_type": "stream",
          "text": [
            "Using TensorFlow version 2.19.0\n"
          ]
        }
      ],
      "source": [
        "\n",
        "%matplotlib inline\n",
        "\n",
        "import tensorflow as tf\n",
        "import numpy as np\n",
        "import matplotlib.pyplot as plt\n",
        "from datasets import load_dataset\n",
        "import random\n",
        "\n",
        "\n",
        "def show_history(h):\n",
        "    epochs_trained = len(h.history['loss'])\n",
        "    plt.figure(figsize=(16, 6))\n",
        "\n",
        "    plt.subplot(1, 2, 1)\n",
        "    plt.plot(range(0, epochs_trained), h.history.get('accuracy'), label='Training')\n",
        "    plt.plot(range(0, epochs_trained), h.history.get('val_accuracy'), label='Validation')\n",
        "    plt.ylim([0., 1.])\n",
        "    plt.xlabel('Epochs')\n",
        "    plt.ylabel('Accuracy')\n",
        "    plt.legend()\n",
        "\n",
        "    plt.subplot(1, 2, 2)\n",
        "    plt.plot(range(0, epochs_trained), h.history.get('loss'), label='Training')\n",
        "    plt.plot(range(0, epochs_trained), h.history.get('val_loss'), label='Validation')\n",
        "    plt.xlabel('Epochs')\n",
        "    plt.ylabel('Loss')\n",
        "    plt.legend()\n",
        "    plt.show()\n",
        "\n",
        "\n",
        "def show_confusion_matrix(y_true, y_pred, classes):\n",
        "    from sklearn.metrics import confusion_matrix\n",
        "\n",
        "    cm = confusion_matrix(y_true, y_pred, normalize='true')\n",
        "\n",
        "    plt.figure(figsize=(8, 8))\n",
        "    sp = plt.subplot(1, 1, 1)\n",
        "    ctx = sp.matshow(cm)\n",
        "    plt.xticks(list(range(0, 6)), labels=classes)\n",
        "    plt.yticks(list(range(0, 6)), labels=classes)\n",
        "    plt.colorbar(ctx)\n",
        "    plt.show()\n",
        "\n",
        "\n",
        "print('Using TensorFlow version', tf.__version__)"
      ]
    },
    {
      "cell_type": "markdown",
      "metadata": {
        "id": "7JsBpezExIga"
      },
      "source": [
        "## Task 3: Importing Data\n",
        "\n",
        "1. Importing the Tweet Emotion dataset\n",
        "2. Creating train, validation and test sets\n",
        "3. Extracting tweets and labels from the examples"
      ]
    },
    {
      "cell_type": "code",
      "execution_count": null,
      "metadata": {
        "id": "0YHOvjAu5eiL"
      },
      "outputs": [],
      "source": []
    },
    {
      "cell_type": "code",
      "execution_count": null,
      "metadata": {
        "id": "2s0h541FxIgc"
      },
      "outputs": [],
      "source": []
    },
    {
      "cell_type": "code",
      "execution_count": null,
      "metadata": {
        "id": "z7eCnxU25eiN"
      },
      "outputs": [],
      "source": []
    },
    {
      "cell_type": "code",
      "execution_count": null,
      "metadata": {
        "id": "oDYXMfZy5eiP"
      },
      "outputs": [],
      "source": []
    },
    {
      "cell_type": "code",
      "execution_count": null,
      "metadata": {
        "id": "jeq3-vSB5eiR"
      },
      "outputs": [],
      "source": []
    },
    {
      "cell_type": "code",
      "execution_count": null,
      "metadata": {
        "id": "bHD3Tk0J5eiU"
      },
      "outputs": [],
      "source": []
    },
    {
      "cell_type": "markdown",
      "metadata": {
        "id": "gcAflLv6xIgp"
      },
      "source": [
        "## Task 4: Tokenizer\n",
        "\n",
        "1. Tokenizing the tweets"
      ]
    },
    {
      "cell_type": "code",
      "execution_count": null,
      "metadata": {
        "id": "qfX5-ResxIgq"
      },
      "outputs": [],
      "source": []
    },
    {
      "cell_type": "code",
      "execution_count": null,
      "metadata": {
        "id": "cckUvwBo5eif"
      },
      "outputs": [],
      "source": []
    },
    {
      "cell_type": "markdown",
      "metadata": {
        "id": "i3Bqm7b2xIgu"
      },
      "source": [
        "## Task 5: Padding and Truncating Sequences\n",
        "\n",
        "1. Checking length of the tweets\n",
        "2. Creating padded sequences"
      ]
    },
    {
      "cell_type": "code",
      "execution_count": null,
      "metadata": {
        "id": "mLvf_WFZxIgu"
      },
      "outputs": [],
      "source": []
    },
    {
      "cell_type": "code",
      "execution_count": null,
      "metadata": {
        "id": "EOi5lIE3xIgx"
      },
      "outputs": [],
      "source": []
    },
    {
      "cell_type": "code",
      "execution_count": null,
      "metadata": {
        "id": "Q9J_Iemf5eiq"
      },
      "outputs": [],
      "source": []
    },
    {
      "cell_type": "code",
      "execution_count": null,
      "metadata": {
        "id": "eglH77ky5ei0"
      },
      "outputs": [],
      "source": []
    },
    {
      "cell_type": "code",
      "execution_count": null,
      "metadata": {
        "id": "iGR473HA5ei7"
      },
      "outputs": [],
      "source": []
    },
    {
      "cell_type": "markdown",
      "metadata": {
        "id": "BURhOX_KxIg8"
      },
      "source": [
        "## Task 6: Preparing the Labels\n",
        "\n",
        "1. Creating classes to index and index to classes dictionaries\n",
        "2. Converting text labels to numeric labels"
      ]
    },
    {
      "cell_type": "code",
      "execution_count": null,
      "metadata": {
        "id": "SufT2bpD5ejE"
      },
      "outputs": [],
      "source": []
    },
    {
      "cell_type": "code",
      "execution_count": null,
      "metadata": {
        "id": "rpwzL88I7YSm"
      },
      "outputs": [],
      "source": []
    },
    {
      "cell_type": "code",
      "execution_count": null,
      "metadata": {
        "id": "dNLF6rXL5ejN"
      },
      "outputs": [],
      "source": []
    },
    {
      "cell_type": "code",
      "execution_count": null,
      "metadata": {
        "id": "_08InVyM5ejc"
      },
      "outputs": [],
      "source": []
    },
    {
      "cell_type": "code",
      "execution_count": null,
      "metadata": {
        "id": "gpeDoA6gxIhE"
      },
      "outputs": [],
      "source": []
    },
    {
      "cell_type": "code",
      "execution_count": null,
      "metadata": {
        "id": "Jq0WJYsP5ejR"
      },
      "outputs": [],
      "source": []
    },
    {
      "cell_type": "code",
      "execution_count": null,
      "metadata": {
        "id": "v15KnrNC5ejW"
      },
      "outputs": [],
      "source": []
    },
    {
      "cell_type": "markdown",
      "metadata": {
        "id": "c-v0Mnh8xIhP"
      },
      "source": [
        "## Task 7: Creating the Model\n",
        "\n",
        "1. Creating the model\n",
        "2. Compiling the model"
      ]
    },
    {
      "cell_type": "code",
      "execution_count": null,
      "metadata": {
        "id": "OpewXxPQ5eji"
      },
      "outputs": [],
      "source": []
    },
    {
      "cell_type": "markdown",
      "metadata": {
        "id": "1HST_CHjxIhR"
      },
      "source": [
        "## Task 8: Training the Model\n",
        "\n",
        "1. Preparing a validation set\n",
        "2. Training the model"
      ]
    },
    {
      "cell_type": "code",
      "execution_count": null,
      "metadata": {
        "id": "Ff7F3hCK5ejm"
      },
      "outputs": [],
      "source": []
    },
    {
      "cell_type": "code",
      "execution_count": null,
      "metadata": {
        "id": "hlMKaZ3H5ejr"
      },
      "outputs": [],
      "source": []
    },
    {
      "cell_type": "code",
      "execution_count": null,
      "metadata": {
        "id": "bzBqnWQ-5ejw"
      },
      "outputs": [],
      "source": []
    },
    {
      "cell_type": "markdown",
      "metadata": {
        "id": "EdsJyMTLxIhX"
      },
      "source": [
        "## Task 9: Evaluating the Model\n",
        "\n",
        "1. Visualizing training history\n",
        "2. Prepraring a test set\n",
        "3. A look at individual predictions on the test set\n",
        "4. A look at all predictions on the test set"
      ]
    },
    {
      "cell_type": "code",
      "execution_count": null,
      "metadata": {
        "id": "ENCfvXeLxIhX"
      },
      "outputs": [],
      "source": []
    },
    {
      "cell_type": "code",
      "execution_count": null,
      "metadata": {
        "id": "kWuzoz8uxIha"
      },
      "outputs": [],
      "source": []
    },
    {
      "cell_type": "code",
      "execution_count": null,
      "metadata": {
        "id": "7vRVJ_2SxIhc"
      },
      "outputs": [],
      "source": []
    },
    {
      "cell_type": "code",
      "execution_count": null,
      "metadata": {
        "id": "rh638vHG5ej6"
      },
      "outputs": [],
      "source": []
    },
    {
      "cell_type": "code",
      "execution_count": null,
      "metadata": {
        "id": "hHl5SVCFxIhh"
      },
      "outputs": [],
      "source": []
    },
    {
      "cell_type": "code",
      "execution_count": null,
      "metadata": {
        "id": "NC8YQ0OexIhj"
      },
      "outputs": [],
      "source": []
    }
  ],
  "metadata": {
    "accelerator": "GPU",
    "colab": {
      "include_colab_link": true,
      "provenance": []
    },
    "kernelspec": {
      "display_name": ".venv",
      "language": "python",
      "name": "python3"
    },
    "language_info": {
      "codemirror_mode": {
        "name": "ipython",
        "version": 3
      },
      "file_extension": ".py",
      "mimetype": "text/x-python",
      "name": "python",
      "nbconvert_exporter": "python",
      "pygments_lexer": "ipython3",
      "version": "3.12.3"
    }
  },
  "nbformat": 4,
  "nbformat_minor": 0
}
